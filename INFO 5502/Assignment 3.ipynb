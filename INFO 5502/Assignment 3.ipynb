{
  "nbformat": 4,
  "nbformat_minor": 0,
  "metadata": {
    "colab": {
      "name": "Assignment3",
      "provenance": []
    },
    "kernelspec": {
      "name": "python3",
      "display_name": "Python 3"
    }
  },
  "cells": [
    {
      "cell_type": "code",
      "metadata": {
        "id": "KecZvG6_QUEF",
        "colab_type": "code",
        "colab": {}
      },
      "source": [
        "%matplotlib inline"
      ],
      "execution_count": 0,
      "outputs": []
    },
    {
      "cell_type": "code",
      "metadata": {
        "id": "CrBy1pjgQYr9",
        "colab_type": "code",
        "outputId": "7a9a7414-f26e-41b3-9db6-1bacb1c91588",
        "colab": {
          "base_uri": "https://localhost:8080/",
          "height": 303
        }
      },
      "source": [
        "#Amelia Mason\n",
        "#Assignment 3\n",
        "#This program asks for an input of the number of random points (x,y) that the user wishes\n",
        "#to use to calculate pi then output the estimated value for pi as well as a plot\n",
        "#showing which points fell inside the circle\n",
        "\n",
        "import numpy as np\n",
        "import matplotlib.pyplot as plt\n",
        "\n",
        "def circle_check(x, y) :\n",
        "  \"\"\"Checks to see if a point (x,y) lies within a circle of radius 0.5 centered on (0.5,0.5)\"\"\"\n",
        "  if ((x - 0.5)**2 + (y - 0.5)**2) <= .5**2 :\n",
        "    return True\n",
        "  else :\n",
        "    return False\n",
        "\n",
        "#asks for input of number of random points\n",
        "pointnum = int(input('Enter the number of random points to plot: '))\n",
        "\n",
        "#creates arrays for storage\n",
        "x_points = np.random.rand(pointnum)\n",
        "y_points = np.random.rand(pointnum)\n",
        "red_x = []\n",
        "red_y = []\n",
        "blue_x = []\n",
        "blue_y = []\n",
        "inside = 0\n",
        "\n",
        "#checks to see if a point falls within the circle and then places them in arrays\n",
        "for x in range(pointnum) :\n",
        "  check = circle_check(x_points[x], y_points[x])\n",
        "  if check == True :\n",
        "    red_x.append(x_points[x])\n",
        "    red_y.append(y_points[x])\n",
        "    inside = inside + 1\n",
        "  else :\n",
        "    blue_x.append(x_points[x])\n",
        "    blue_y.append(y_points[x])\n",
        "\n",
        "#estimates pi\n",
        "pi = 4 * (inside/pointnum)\n",
        "print('Estimated pi =', pi)\n",
        "\n",
        "#plots the 1 x 1 square\n",
        "plt.plot([0,0],[0,1], color='b', linewidth=1)\n",
        "plt.plot([0,1],[1,1], color='b', linewidth=1)\n",
        "plt.plot([1,1],[1,0], color='b', linewidth=1)\n",
        "plt.plot([1,0],[0,0], color='b', linewidth=1)\n",
        "\n",
        "#plots a circle of radius 0.5 centered on (0.5, 0.5)\n",
        "circle = plt.Circle((.5, .5), 0.5, color='r', fill=False)\n",
        "\n",
        "fig = plt.gcf()\n",
        "ax = fig.gca()\n",
        "plt.gca().set_aspect('equal')\n",
        "ax.add_artist(circle)\n",
        "\n",
        "#plots the random points\n",
        "plt.scatter(blue_x, blue_y, color='b', s=1)\n",
        "plt.scatter(red_x, red_y, color='r', s=1)\n",
        "\n",
        "plt.show()"
      ],
      "execution_count": 40,
      "outputs": [
        {
          "output_type": "stream",
          "text": [
            "Enter the number of random points to plot: 5000000\n",
            "Estimated pi = 3.1411592\n"
          ],
          "name": "stdout"
        },
        {
          "output_type": "display_data",
          "data": {
            "image/png": "[encoded data removed]",
            "text/plain": [
              "<Figure size 432x288 with 1 Axes>"
            ]
          },
          "metadata": {
            "tags": []
          }
        }
      ]
    }
  ]
}
